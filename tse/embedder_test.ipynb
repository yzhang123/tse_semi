{
 "cells": [
  {
   "cell_type": "code",
   "execution_count": null,
   "id": "406ad561",
   "metadata": {
    "ExecuteTime": {
     "end_time": "2021-10-29T17:59:49.100240Z",
     "start_time": "2021-10-29T17:59:48.980459Z"
    }
   },
   "outputs": [],
   "source": [
    "!export CUDA_VISIBLE_DEVICES=4"
   ]
  },
  {
   "cell_type": "code",
   "execution_count": null,
   "id": "0b9174a5",
   "metadata": {
    "ExecuteTime": {
     "end_time": "2021-10-29T17:59:49.239827Z",
     "start_time": "2021-10-29T17:59:49.222061Z"
    }
   },
   "outputs": [],
   "source": [
    "%load_ext autoreload\n",
    "%autoreload 2"
   ]
  },
  {
   "cell_type": "code",
   "execution_count": null,
   "id": "37b42673",
   "metadata": {
    "ExecuteTime": {
     "end_time": "2021-10-29T17:59:49.510798Z",
     "start_time": "2021-10-29T17:59:49.492025Z"
    }
   },
   "outputs": [],
   "source": [
    "def sound( x, rate=8000, label=''):\n",
    "    from IPython.display import display, Audio, HTML\n",
    "    if label is '':\n",
    "        display( Audio( x, rate=rate))\n",
    "    else:\n",
    "        display( HTML( \n",
    "        '<style> table, th, td {border: 0px; }</style> <table><tr><td>' + label + \n",
    "        '</td><td>' + Audio( x, rate=rate)._repr_html_()[3:] + '</td></tr></table>'\n",
    "        ))\n",
    "import pdb"
   ]
  },
  {
   "cell_type": "code",
   "execution_count": null,
   "id": "2bfa059f",
   "metadata": {
    "ExecuteTime": {
     "end_time": "2021-10-29T17:59:53.760810Z",
     "start_time": "2021-10-29T17:59:49.815347Z"
    }
   },
   "outputs": [],
   "source": [
    "emb_hyp = {\n",
    "    'audio/sample_rate': 8000,\n",
    "    'embedder/n_fft': 512,\n",
    "    'embedder/hop': 160,\n",
    "    'embedder/n_mels': 40,\n",
    "    'embedder/num_layers': 3,\n",
    "    'embedder/lstm_hidden': 768,\n",
    "    'embedder/emb_dim': 256,\n",
    "    'embedder/pretrained_path': '/mnt/data/zhepei/outputs/tse_semi/spid/vfpt_spid/2021-08-29-22-19-31_blstm_softmax_8k_bs46_4sec/chkpt/chkpt_100000.pt',\n",
    "    'embedder/trainable': False,\n",
    "}\n",
    "\n",
    "from spid_modules.embedder import Embedder\n",
    "embedder = Embedder(emb_hyp)\n",
    "embedder.eval()"
   ]
  },
  {
   "cell_type": "code",
   "execution_count": null,
   "id": "d3342187",
   "metadata": {
    "ExecuteTime": {
     "end_time": "2021-10-29T17:59:53.784368Z",
     "start_time": "2021-10-29T17:59:53.763055Z"
    }
   },
   "outputs": [],
   "source": [
    "hyp = {\n",
    "    'sample_rate': 8000,\n",
    "    'training_signal_len': 40000,\n",
    "    'train_dataloader_opts': {\n",
    "        'batch_size': 1,\n",
    "        'num_workers': 0,\n",
    "    },\n",
    "    'valid_dataloader_opts': {\n",
    "        'batch_size': 1,\n",
    "        'num_workers': 0,\n",
    "    },\n",
    "    'data_folder': '/mnt/data/wham/wham_original',\n",
    "    'wsj_folder': '/mnt/data/wsj0.8k',\n",
    "    'base_folder_dm_info_list': [\n",
    "        {\n",
    "            'path': '/mnt/data/wsj0.8k/si_tr_s/',\n",
    "            'ext': 'wav',\n",
    "            'type': 'clean',\n",
    "        }\n",
    "    ],\n",
    "    'data_clean_prob': 1.,\n",
    "    \n",
    "#     'train_txtpath': '/mnt/data/Speech/wsj_tse/mix_2_spk_tr_extr.txt',\n",
    "#     'train_wham_folder': '/mnt/data/wham/wham_original/wav8k/min/tr',\n",
    "    'train_data': '/mnt/data/zhepei/outputs/sb_tse/results/2021-10-11+21-30-05+seed_1234+xformer-wham/save/wham_tse_tr.csv',\n",
    "    'valid_data': '/mnt/data/zhepei/outputs/sb_tse/results/2021-10-27+03-53-37+seed_1234+xformer-wham-pre/save/wham_tse_tt.csv',\n",
    "\n",
    "}"
   ]
  },
  {
   "cell_type": "code",
   "execution_count": null,
   "id": "2c37046c",
   "metadata": {
    "ExecuteTime": {
     "end_time": "2021-10-29T17:59:53.871945Z",
     "start_time": "2021-10-29T17:59:53.785667Z"
    }
   },
   "outputs": [],
   "source": [
    "import torch\n",
    "import numpy as np\n",
    "from speechbrain.dataio.batch import PaddedBatch"
   ]
  },
  {
   "cell_type": "markdown",
   "id": "b5e3e7e0",
   "metadata": {},
   "source": [
    "# Test Dynamic mixing"
   ]
  },
  {
   "cell_type": "code",
   "execution_count": null,
   "id": "11e13eb5",
   "metadata": {
    "ExecuteTime": {
     "end_time": "2021-10-29T17:58:38.507125Z",
     "start_time": "2021-10-29T17:58:37.525782Z"
    }
   },
   "outputs": [],
   "source": [
    "from data.wham_data_utils import dynamic_mixing_prep\n",
    "train_dl = dynamic_mixing_prep(hyp, 'train')"
   ]
  },
  {
   "cell_type": "code",
   "execution_count": null,
   "id": "ca7df6fe",
   "metadata": {
    "ExecuteTime": {
     "end_time": "2021-10-29T17:59:54.002429Z",
     "start_time": "2021-10-29T17:59:53.979585Z"
    }
   },
   "outputs": [],
   "source": [
    "def listen_batch(batch):\n",
    "    mix = batch['mix_sig'].data\n",
    "    s1 = batch['s1_sig'].data\n",
    "    s2 = batch['s2_sig'].data\n",
    "    enr = batch['enr_sig'].data\n",
    "    noise = batch['noise_sig'].data\n",
    "    diff = mix - s1 - s2 - noise\n",
    "    print(abs(mix).max())\n",
    "    print((diff**2).mean())\n",
    "    sound(mix[0].numpy(), rate=hyp['sample_rate'], label='mix')\n",
    "    sound(s1[0].numpy(), rate=hyp['sample_rate'], label='s1')\n",
    "    sound(s2[0].numpy(), rate=hyp['sample_rate'], label='s2')\n",
    "    sound(enr[0].numpy(), rate=hyp['sample_rate'], label='enr')"
   ]
  },
  {
   "cell_type": "code",
   "execution_count": null,
   "id": "6bffb5ef",
   "metadata": {
    "ExecuteTime": {
     "end_time": "2021-10-29T17:59:54.258676Z",
     "start_time": "2021-10-29T17:59:54.233145Z"
    }
   },
   "outputs": [],
   "source": [
    "def compute_cos_sim(v1, v2):\n",
    "    return (v1 * v2).sum() / (torch.norm(v1) * torch.norm(v2))\n",
    "\n",
    "def check_emb(batch):\n",
    "    s1 = batch['s1_sig'].data\n",
    "    s2 = batch['s2_sig'].data\n",
    "    enr = batch['enr_sig'].data\n",
    "    s1_emb = embedder(s1)\n",
    "    s2_emb = embedder(s2)\n",
    "    enr_emb = embedder(enr)\n",
    "    pos_sim = compute_cos_sim(s1_emb[0], enr_emb[0]).item()\n",
    "    neg_sim = compute_cos_sim(s2_emb[0], enr_emb[0]).item()\n",
    "    print('Positive sim: {} -- Negative sim: {} -- diff: {}'.format(pos_sim, neg_sim, pos_sim-neg_sim))\n",
    "\n",
    "def check_emb_noise(batch):\n",
    "    s1 = batch['s1_sig'].data\n",
    "    s2 = batch['s2_sig'].data\n",
    "    enr = batch['enr_sig'].data\n",
    "    noise = batch['noise_sig'].data\n",
    "    s1_emb = embedder(s1+noise)\n",
    "    s2_emb = embedder(s2+noise)\n",
    "    min_len = min(enr.shape[-1], noise.shape[-1])\n",
    "    enr_emb = embedder(enr[..., :min_len]+noise[..., :min_len])\n",
    "    pos_sim = compute_cos_sim(s1_emb[0], enr_emb[0]).item()\n",
    "    neg_sim = compute_cos_sim(s2_emb[0], enr_emb[0]).item()\n",
    "    print('Positive sim: {} -- Negative sim: {} -- diff: {}'.format(pos_sim, neg_sim, pos_sim-neg_sim))"
   ]
  },
  {
   "cell_type": "code",
   "execution_count": null,
   "id": "2d8d1f23",
   "metadata": {
    "ExecuteTime": {
     "end_time": "2021-10-29T16:57:14.475485Z",
     "start_time": "2021-10-29T16:57:14.404221Z"
    }
   },
   "outputs": [],
   "source": [
    "for i, batch in enumerate(train_dl):  \n",
    "    if i == 1:\n",
    "        listen_batch(batch)\n",
    "        break"
   ]
  },
  {
   "cell_type": "code",
   "execution_count": null,
   "id": "ed8f1213",
   "metadata": {
    "ExecuteTime": {
     "end_time": "2021-10-29T17:02:02.419688Z",
     "start_time": "2021-10-29T17:01:44.543710Z"
    }
   },
   "outputs": [],
   "source": [
    "for i, batch in enumerate(train_dl):  \n",
    "    check_emb(batch)\n",
    "    if i == 20:\n",
    "        break"
   ]
  },
  {
   "cell_type": "markdown",
   "id": "d1aa1fe7",
   "metadata": {},
   "source": [
    "# Test static mixing "
   ]
  },
  {
   "cell_type": "code",
   "execution_count": null,
   "id": "28e8efa9",
   "metadata": {
    "ExecuteTime": {
     "end_time": "2021-10-29T17:59:56.871669Z",
     "start_time": "2021-10-29T17:59:56.801993Z"
    }
   },
   "outputs": [],
   "source": [
    "from data.wham_data_utils import static_data_prep\n",
    "valid_ds = static_data_prep(hyp, 'valid')\n",
    "valid_dl = torch.utils.data.DataLoader(\n",
    "        valid_ds,\n",
    "        batch_size=hyp[\"valid_dataloader_opts\"][\"batch_size\"],\n",
    "        num_workers=hyp[\"valid_dataloader_opts\"][\"num_workers\"],\n",
    "        collate_fn=PaddedBatch,\n",
    "        worker_init_fn=lambda x: np.random.seed(\n",
    "            int.from_bytes(os.urandom(4), \"little\") + x\n",
    "        ),\n",
    "    )"
   ]
  },
  {
   "cell_type": "code",
   "execution_count": null,
   "id": "0209344a",
   "metadata": {
    "ExecuteTime": {
     "end_time": "2021-10-29T17:59:57.196800Z",
     "start_time": "2021-10-29T17:59:57.113272Z"
    }
   },
   "outputs": [],
   "source": [
    "for i, batch in enumerate(valid_dl):  \n",
    "    if i == 1:\n",
    "        listen_batch(batch)\n",
    "        break"
   ]
  },
  {
   "cell_type": "code",
   "execution_count": null,
   "id": "9ff0d7dd",
   "metadata": {
    "ExecuteTime": {
     "end_time": "2021-10-29T18:00:58.774103Z",
     "start_time": "2021-10-29T18:00:42.013988Z"
    }
   },
   "outputs": [],
   "source": [
    "for i, batch in enumerate(valid_dl):  \n",
    "    check_emb(batch)\n",
    "    if i == 20:\n",
    "        break"
   ]
  },
  {
   "cell_type": "code",
   "execution_count": null,
   "id": "c6df1a32",
   "metadata": {
    "ExecuteTime": {
     "end_time": "2021-10-29T18:01:29.332599Z",
     "start_time": "2021-10-29T18:01:11.897038Z"
    }
   },
   "outputs": [],
   "source": [
    "for i, batch in enumerate(valid_dl):  \n",
    "    check_emb(batch)\n",
    "    if i == 20:\n",
    "        break"
   ]
  },
  {
   "cell_type": "code",
   "execution_count": null,
   "id": "f9c39ff9",
   "metadata": {
    "ExecuteTime": {
     "end_time": "2021-10-29T18:02:07.641493Z",
     "start_time": "2021-10-29T18:01:52.380020Z"
    }
   },
   "outputs": [],
   "source": [
    "for i, batch in enumerate(valid_dl):  \n",
    "    check_emb_noise(batch)\n",
    "    if i == 20:\n",
    "        break"
   ]
  },
  {
   "cell_type": "code",
   "execution_count": null,
   "id": "3cd5352d",
   "metadata": {
    "ExecuteTime": {
     "end_time": "2021-10-29T18:07:56.345338Z",
     "start_time": "2021-10-29T18:07:40.765404Z"
    }
   },
   "outputs": [],
   "source": [
    "for i, batch in enumerate(valid_dl):  \n",
    "    check_emb_noise(batch)\n",
    "    if i == 20:\n",
    "        break"
   ]
  },
  {
   "cell_type": "code",
   "execution_count": null,
   "id": "53d4a9c4",
   "metadata": {},
   "outputs": [],
   "source": []
  }
 ],
 "metadata": {
  "kernelspec": {
   "display_name": "pytorch110",
   "language": "python",
   "name": "pytorch110"
  },
  "language_info": {
   "codemirror_mode": {
    "name": "ipython",
    "version": 3
   },
   "file_extension": ".py",
   "mimetype": "text/x-python",
   "name": "python",
   "nbconvert_exporter": "python",
   "pygments_lexer": "ipython3",
   "version": "3.9.7"
  }
 },
 "nbformat": 4,
 "nbformat_minor": 5
}
