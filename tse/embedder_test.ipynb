{
 "cells": [
  {
   "cell_type": "code",
   "execution_count": null,
   "id": "406ad561",
   "metadata": {
    "ExecuteTime": {
     "end_time": "2021-09-02T23:56:13.722208Z",
     "start_time": "2021-09-02T23:56:13.606083Z"
    }
   },
   "outputs": [],
   "source": [
    "!export CUDA_VISIBLE_DEVICES=0"
   ]
  },
  {
   "cell_type": "code",
   "execution_count": null,
   "id": "0b9174a5",
   "metadata": {
    "ExecuteTime": {
     "end_time": "2021-09-02T23:56:13.929747Z",
     "start_time": "2021-09-02T23:56:13.913022Z"
    }
   },
   "outputs": [],
   "source": [
    "%load_ext autoreload\n",
    "%autoreload 2"
   ]
  },
  {
   "cell_type": "code",
   "execution_count": null,
   "id": "37b42673",
   "metadata": {
    "ExecuteTime": {
     "end_time": "2021-09-02T23:56:14.277770Z",
     "start_time": "2021-09-02T23:56:14.264281Z"
    }
   },
   "outputs": [],
   "source": [
    "def sound( x, rate=8000, label=''):\n",
    "    from IPython.display import display, Audio, HTML\n",
    "    if label is '':\n",
    "        display( Audio( x, rate=rate))\n",
    "    else:\n",
    "        display( HTML( \n",
    "        '<style> table, th, td {border: 0px; }</style> <table><tr><td>' + label + \n",
    "        '</td><td>' + Audio( x, rate=rate)._repr_html_()[3:] + '</td></tr></table>'\n",
    "        ))\n",
    "import pdb"
   ]
  },
  {
   "cell_type": "code",
   "execution_count": null,
   "id": "2bfa059f",
   "metadata": {
    "ExecuteTime": {
     "end_time": "2021-09-02T23:56:22.501334Z",
     "start_time": "2021-09-02T23:56:17.859644Z"
    }
   },
   "outputs": [],
   "source": [
    "emb_hyp = {\n",
    "    'audio/sample_rate': 8000,\n",
    "    'embedder/n_fft': 512,\n",
    "    'embedder/hop': 160,\n",
    "    'embedder/n_mels': 40,\n",
    "    'embedder/num_layers': 3,\n",
    "    'embedder/lstm_hidden': 768,\n",
    "    'embedder/emb_dim': 256,\n",
    "    'embedder/pretrained_path': '/mnt/data/zhepei/outputs/tse_semi/spid/vfpt_spid/2021-08-29-22-19-31_blstm_softmax_8k_bs46_4sec/chkpt/chkpt_100000.pt',\n",
    "    'embedder/trainable': False,\n",
    "}\n",
    "\n",
    "from spid_modules.embedder import Embedder\n",
    "embedder = Embedder(emb_hyp)\n",
    "embedder.eval()"
   ]
  },
  {
   "cell_type": "code",
   "execution_count": null,
   "id": "d3342187",
   "metadata": {
    "ExecuteTime": {
     "end_time": "2021-09-02T23:59:37.149259Z",
     "start_time": "2021-09-02T23:59:37.128236Z"
    }
   },
   "outputs": [],
   "source": [
    "hyp = {\n",
    "    'dataloader_opts': {\n",
    "        'batch_size': 1,\n",
    "        'num_workers': 0,\n",
    "    },\n",
    "    'valid_data': '/mnt/data/Speech/wsj_tse/mix_2_spk_cv/meta.csv',\n",
    "    'base_folder_dm': '/mnt/data/wsj0.8k/si_tr_s/',\n",
    "    'base_folder_dm_ext': 'wav',\n",
    "    'sample_rate': 8000,\n",
    "    'training_signal_len': 24000,\n",
    "}"
   ]
  },
  {
   "cell_type": "code",
   "execution_count": null,
   "id": "2c37046c",
   "metadata": {
    "ExecuteTime": {
     "end_time": "2021-09-02T23:59:37.867346Z",
     "start_time": "2021-09-02T23:59:37.839182Z"
    }
   },
   "outputs": [],
   "source": [
    "from data.data_mixing import static_mixing_prep\n",
    "import torch\n",
    "import numpy as np\n",
    "from speechbrain.dataio.batch import PaddedBatch"
   ]
  },
  {
   "cell_type": "markdown",
   "id": "d1aa1fe7",
   "metadata": {},
   "source": [
    "# Test static mixing "
   ]
  },
  {
   "cell_type": "code",
   "execution_count": null,
   "id": "28e8efa9",
   "metadata": {
    "ExecuteTime": {
     "end_time": "2021-09-02T23:59:38.863229Z",
     "start_time": "2021-09-02T23:59:38.804356Z"
    }
   },
   "outputs": [],
   "source": [
    "ds = static_mixing_prep(hyp, 'valid')\n",
    "dl = torch.utils.data.DataLoader(\n",
    "        ds,\n",
    "        batch_size=hyp[\"dataloader_opts\"][\"batch_size\"],\n",
    "        num_workers=hyp[\"dataloader_opts\"][\"num_workers\"],\n",
    "        collate_fn=PaddedBatch,\n",
    "        worker_init_fn=lambda x: np.random.seed(\n",
    "            int.from_bytes(os.urandom(4), \"little\") + x\n",
    "        ),\n",
    "    )"
   ]
  },
  {
   "cell_type": "code",
   "execution_count": null,
   "id": "ca7df6fe",
   "metadata": {
    "ExecuteTime": {
     "end_time": "2021-09-02T23:59:39.535612Z",
     "start_time": "2021-09-02T23:59:39.504835Z"
    }
   },
   "outputs": [],
   "source": [
    "def listen_batch(batch):\n",
    "    mix = batch['mix_sig'].data\n",
    "    s1 = batch['s1_sig'].data\n",
    "    s2 = batch['s2_sig'].data\n",
    "    enr = batch['enr_sig'].data\n",
    "    diff = mix - s1 - s2\n",
    "    print(abs(mix).max())\n",
    "    print((diff**2).mean())\n",
    "    sound(mix[0].numpy(), rate=hyp['sample_rate'], label='mix')\n",
    "    sound(s1[0].numpy(), rate=hyp['sample_rate'], label='s1')\n",
    "    sound(s2[0].numpy(), rate=hyp['sample_rate'], label='s2')\n",
    "    sound(enr[0].numpy(), rate=hyp['sample_rate'], label='enr')"
   ]
  },
  {
   "cell_type": "code",
   "execution_count": null,
   "id": "6bffb5ef",
   "metadata": {
    "ExecuteTime": {
     "end_time": "2021-09-02T23:59:40.041279Z",
     "start_time": "2021-09-02T23:59:40.019623Z"
    }
   },
   "outputs": [],
   "source": [
    "def compute_cos_sim(v1, v2):\n",
    "    return (v1 * v2).sum() / (torch.norm(v1) * torch.norm(v2))\n",
    "\n",
    "def check_emb(batch):\n",
    "    s1 = batch['s1_sig'].data\n",
    "    s2 = batch['s2_sig'].data\n",
    "    enr = batch['enr_sig'].data\n",
    "    s1_emb = embedder(s1)\n",
    "    s2_emb = embedder(s2)\n",
    "    enr_emb = embedder(enr)\n",
    "    pos_sim = compute_cos_sim(s1_emb[0], enr_emb[0]).item()\n",
    "    neg_sim = compute_cos_sim(s2_emb[0], enr_emb[0]).item()\n",
    "    print('Positive sim: {} -- Negative sim: {} -- diff: {}'.format(pos_sim, neg_sim, pos_sim-neg_sim))"
   ]
  },
  {
   "cell_type": "code",
   "execution_count": null,
   "id": "9ff0d7dd",
   "metadata": {
    "ExecuteTime": {
     "end_time": "2021-09-03T00:00:00.106346Z",
     "start_time": "2021-09-02T23:59:40.621873Z"
    }
   },
   "outputs": [],
   "source": [
    "for i, batch in enumerate(dl):  \n",
    "    check_emb(batch)\n",
    "    if i == 20:\n",
    "        break"
   ]
  },
  {
   "cell_type": "code",
   "execution_count": null,
   "id": "0209344a",
   "metadata": {
    "ExecuteTime": {
     "end_time": "2021-09-03T00:00:18.369075Z",
     "start_time": "2021-09-03T00:00:18.332047Z"
    }
   },
   "outputs": [],
   "source": [
    "for i, batch in enumerate(dl):  \n",
    "    if i == 1:\n",
    "        listen_batch(batch)\n",
    "        break"
   ]
  },
  {
   "cell_type": "code",
   "execution_count": null,
   "id": "f9c39ff9",
   "metadata": {},
   "outputs": [],
   "source": []
  }
 ],
 "metadata": {
  "kernelspec": {
   "display_name": "pytorch190",
   "language": "python",
   "name": "pytorch190"
  },
  "language_info": {
   "codemirror_mode": {
    "name": "ipython",
    "version": 3
   },
   "file_extension": ".py",
   "mimetype": "text/x-python",
   "name": "python",
   "nbconvert_exporter": "python",
   "pygments_lexer": "ipython3",
   "version": "3.8.11"
  }
 },
 "nbformat": 4,
 "nbformat_minor": 5
}
