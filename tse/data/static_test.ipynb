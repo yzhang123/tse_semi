{
 "cells": [
  {
   "cell_type": "code",
   "execution_count": null,
   "id": "a8c9e707",
   "metadata": {
    "ExecuteTime": {
     "end_time": "2021-09-14T15:00:14.287279Z",
     "start_time": "2021-09-14T15:00:14.152196Z"
    }
   },
   "outputs": [],
   "source": [
    "!export CUDA_VISIBLE_DEVICES=3"
   ]
  },
  {
   "cell_type": "code",
   "execution_count": null,
   "id": "fce585ba",
   "metadata": {
    "ExecuteTime": {
     "end_time": "2021-09-14T15:00:14.839187Z",
     "start_time": "2021-09-14T15:00:14.816458Z"
    }
   },
   "outputs": [],
   "source": [
    "%load_ext autoreload\n",
    "%autoreload 2"
   ]
  },
  {
   "cell_type": "code",
   "execution_count": null,
   "id": "6c6b14ff",
   "metadata": {
    "ExecuteTime": {
     "end_time": "2021-09-14T15:00:15.302495Z",
     "start_time": "2021-09-14T15:00:15.285522Z"
    }
   },
   "outputs": [],
   "source": [
    "def sound( x, rate=8000, label=''):\n",
    "    from IPython.display import display, Audio, HTML\n",
    "    if label is '':\n",
    "        display( Audio( x, rate=rate))\n",
    "    else:\n",
    "        display( HTML( \n",
    "        '<style> table, th, td {border: 0px; }</style> <table><tr><td>' + label + \n",
    "        '</td><td>' + Audio( x, rate=rate)._repr_html_()[3:] + '</td></tr></table>'\n",
    "        ))\n",
    "import pdb"
   ]
  },
  {
   "cell_type": "code",
   "execution_count": null,
   "id": "41ed30f8",
   "metadata": {
    "ExecuteTime": {
     "end_time": "2021-08-27T00:27:22.593483Z",
     "start_time": "2021-08-27T00:27:22.567950Z"
    }
   },
   "outputs": [],
   "source": [
    "hyp = {\n",
    "    'dataloader_opts': {\n",
    "        'batch_size': 1,\n",
    "        'num_workers': 0,\n",
    "    },\n",
    "    'valid_data': '/mnt/data/Speech/librispeech_tse/dev-clean-mix/seed123/meta.csv',\n",
    "    'base_folder_dm': '/mnt/nvme/Speech/librispeech/train-clean-100/train-clean-100/',\n",
    "    'base_folder_dm_ext': 'flac',\n",
    "    'sample_rate': 8000,\n",
    "    'training_signal_len': 24000,\n",
    "}"
   ]
  },
  {
   "cell_type": "code",
   "execution_count": null,
   "id": "b7c97037",
   "metadata": {
    "ExecuteTime": {
     "end_time": "2021-09-14T15:00:18.544942Z",
     "start_time": "2021-09-14T15:00:17.489365Z"
    }
   },
   "outputs": [],
   "source": [
    "from data_mixing import static_mixing_prep\n",
    "import torch\n",
    "import numpy as np\n",
    "from speechbrain.dataio.batch import PaddedBatch"
   ]
  },
  {
   "cell_type": "markdown",
   "id": "893a54c5",
   "metadata": {},
   "source": [
    "# Test static mixing "
   ]
  },
  {
   "cell_type": "code",
   "execution_count": null,
   "id": "72312d18",
   "metadata": {
    "ExecuteTime": {
     "end_time": "2021-08-27T00:27:23.602627Z",
     "start_time": "2021-08-27T00:27:23.575973Z"
    }
   },
   "outputs": [],
   "source": [
    "\n",
    "\n",
    "ds = static_mixing_prep(hyp, 'valid')\n",
    "dl = torch.utils.data.DataLoader(\n",
    "        ds,\n",
    "        batch_size=hyp[\"dataloader_opts\"][\"batch_size\"],\n",
    "        num_workers=hyp[\"dataloader_opts\"][\"num_workers\"],\n",
    "        collate_fn=PaddedBatch,\n",
    "        worker_init_fn=lambda x: np.random.seed(\n",
    "            int.from_bytes(os.urandom(4), \"little\") + x\n",
    "        ),\n",
    "    )"
   ]
  },
  {
   "cell_type": "code",
   "execution_count": null,
   "id": "9c8e9cee",
   "metadata": {
    "ExecuteTime": {
     "end_time": "2021-09-14T15:00:53.655740Z",
     "start_time": "2021-09-14T15:00:53.626330Z"
    }
   },
   "outputs": [],
   "source": [
    "def listen_batch(batch):\n",
    "    mix = batch['mix_sig'].data\n",
    "    s1 = batch['s1_sig'].data\n",
    "    s2 = batch['s2_sig'].data\n",
    "    enr = batch['enr_sig'].data\n",
    "    diff = mix - s1 - s2\n",
    "    print(abs(mix).max())\n",
    "    print((diff**2).mean())\n",
    "    sound(mix[0].numpy(), rate=hyp['sample_rate'], label='mix')\n",
    "    sound(s1[0].numpy(), rate=hyp['sample_rate'], label='s1')\n",
    "    sound(s2[0].numpy(), rate=hyp['sample_rate'], label='s2')\n",
    "    sound(enr[0].numpy(), rate=hyp['sample_rate'], label='enr')"
   ]
  },
  {
   "cell_type": "code",
   "execution_count": null,
   "id": "1632a3fd",
   "metadata": {
    "ExecuteTime": {
     "end_time": "2021-08-27T00:27:24.878145Z",
     "start_time": "2021-08-27T00:27:24.663417Z"
    }
   },
   "outputs": [],
   "source": [
    "for i, batch in enumerate(dl):  \n",
    "    if i == 5:\n",
    "        listen_batch(batch)\n",
    "        break"
   ]
  },
  {
   "cell_type": "markdown",
   "id": "34dcb08f",
   "metadata": {},
   "source": [
    "# Test dynamic mixing "
   ]
  },
  {
   "cell_type": "code",
   "execution_count": null,
   "id": "0de51a13",
   "metadata": {
    "ExecuteTime": {
     "end_time": "2021-09-14T15:46:28.266345Z",
     "start_time": "2021-09-14T15:46:24.932826Z"
    }
   },
   "outputs": [],
   "source": [
    "hyp = {\n",
    "    'dataloader_opts': {\n",
    "        'batch_size': 1,\n",
    "        'num_workers': 0,\n",
    "    },\n",
    "    'base_folder_dm_info_list': [\n",
    "        {\n",
    "            'path': '/mnt/data/wsj0.8k/si_tr_s/',\n",
    "            'ext': 'wav',\n",
    "            'type': 'clean',\n",
    "        },\n",
    "        {\n",
    "            'path': '/mnt/data/Speech/VoxCeleb1/dev_wav/',\n",
    "            'ext': 'wav',\n",
    "            'type': 'unclean',\n",
    "        }\n",
    "    ],\n",
    "    'train_data': '/mnt/data/zhepei/outputs/sb_tse/results/2021-09-07+10-05-10+seed_1234+sepformer_wsj_emb/save/dummy.csv',\n",
    "    'data_clean_prob': 0.5,\n",
    "    'sample_rate': 8000,\n",
    "    'training_signal_len': 24000,\n",
    "}\n",
    "\n",
    "from data_mixing import dynamic_mixing_prep\n",
    "dl = dynamic_mixing_prep(hyp, 'train')"
   ]
  },
  {
   "cell_type": "code",
   "execution_count": null,
   "id": "a58ed830",
   "metadata": {
    "ExecuteTime": {
     "end_time": "2021-09-14T15:46:28.960413Z",
     "start_time": "2021-09-14T15:46:28.932270Z"
    }
   },
   "outputs": [],
   "source": [
    "def listen_batch_dyn(batch):\n",
    "    mix = batch['mix_sig'].data\n",
    "    s1 = batch['s1_sig'].data\n",
    "    s2 = batch['s2_sig'].data\n",
    "    enr = batch['enr_sig'].data\n",
    "#     diff = mix - s1 - s2\n",
    "#     print(abs(mix).max())\n",
    "#     print((diff**2).mean())\n",
    "    print(batch['s1_clean'].data)\n",
    "    print(batch['s2_clean'].data)\n",
    "    sound(mix[0].numpy(), rate=hyp['sample_rate'], label='mix')\n",
    "    sound(s1[0].numpy(), rate=hyp['sample_rate'], label='s1')\n",
    "    sound(s2[0].numpy(), rate=hyp['sample_rate'], label='s2')\n",
    "    sound(enr[0].numpy(), rate=hyp['sample_rate'], label='enr')"
   ]
  },
  {
   "cell_type": "code",
   "execution_count": null,
   "id": "bd9a4910",
   "metadata": {
    "ExecuteTime": {
     "end_time": "2021-09-14T15:47:03.883314Z",
     "start_time": "2021-09-14T15:47:03.499406Z"
    }
   },
   "outputs": [],
   "source": [
    "for i, batch in enumerate(dl):  \n",
    "    if i == 10:\n",
    "        listen_batch_dyn(batch)\n",
    "        break"
   ]
  },
  {
   "cell_type": "markdown",
   "id": "60a68fad",
   "metadata": {},
   "source": [
    "# Sepformer dataloader "
   ]
  },
  {
   "cell_type": "code",
   "execution_count": null,
   "id": "9d0de564",
   "metadata": {
    "ExecuteTime": {
     "end_time": "2021-08-26T19:10:01.813945Z",
     "start_time": "2021-08-26T19:10:01.595120Z"
    }
   },
   "outputs": [],
   "source": [
    "from hyperpyyaml import load_hyperpyyaml\n",
    "with open('/home/zhepei/workspace/playground/sb/separation/hparams/sepformer.yaml') as fin:\n",
    "    hparams = load_hyperpyyaml(fin)"
   ]
  },
  {
   "cell_type": "code",
   "execution_count": null,
   "id": "650f125b",
   "metadata": {
    "ExecuteTime": {
     "end_time": "2021-08-26T19:12:36.749620Z",
     "start_time": "2021-08-26T19:12:36.231890Z"
    }
   },
   "outputs": [],
   "source": [
    "from sepformer_mix import dynamic_mix_data_prep\n",
    "dl = dynamic_mix_data_prep(hparams)"
   ]
  },
  {
   "cell_type": "code",
   "execution_count": null,
   "id": "c8c0a56f",
   "metadata": {
    "ExecuteTime": {
     "end_time": "2021-08-26T19:12:36.919885Z",
     "start_time": "2021-08-26T19:12:36.751245Z"
    }
   },
   "outputs": [],
   "source": [
    "def listen_batch_wsj(batch):\n",
    "    mix = batch['mix_sig'].data\n",
    "    s1 = batch['s1_sig'].data\n",
    "    s2 = batch['s2_sig'].data\n",
    "    diff = mix - s1 - s2\n",
    "    print(abs(mix).max())\n",
    "    print((diff**2).mean())\n",
    "    sound(mix[0].numpy(), rate=hyp['sample_rate'], label='mix')\n",
    "    sound(s1[0].numpy(), rate=hyp['sample_rate'], label='s1')\n",
    "    sound(s2[0].numpy(), rate=hyp['sample_rate'], label='s2')\n",
    "\n",
    "    \n",
    "for i, batch in enumerate(dl):  \n",
    "    if i == 0:\n",
    "        listen_batch_wsj(batch)\n",
    "        break"
   ]
  },
  {
   "cell_type": "code",
   "execution_count": null,
   "id": "0872136b",
   "metadata": {},
   "outputs": [],
   "source": []
  }
 ],
 "metadata": {
  "kernelspec": {
   "display_name": "pytorch190",
   "language": "python",
   "name": "pytorch190"
  },
  "language_info": {
   "codemirror_mode": {
    "name": "ipython",
    "version": 3
   },
   "file_extension": ".py",
   "mimetype": "text/x-python",
   "name": "python",
   "nbconvert_exporter": "python",
   "pygments_lexer": "ipython3",
   "version": "3.8.11"
  }
 },
 "nbformat": 4,
 "nbformat_minor": 5
}
