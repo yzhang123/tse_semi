{
 "cells": [
  {
   "cell_type": "code",
   "execution_count": null,
   "id": "a8c9e707",
   "metadata": {
    "ExecuteTime": {
     "end_time": "2021-10-04T02:38:34.906112Z",
     "start_time": "2021-10-04T02:38:34.777819Z"
    }
   },
   "outputs": [],
   "source": [
    "!export CUDA_VISIBLE_DEVICES=3"
   ]
  },
  {
   "cell_type": "code",
   "execution_count": null,
   "id": "fce585ba",
   "metadata": {
    "ExecuteTime": {
     "end_time": "2021-10-04T02:38:34.928060Z",
     "start_time": "2021-10-04T02:38:34.909861Z"
    }
   },
   "outputs": [],
   "source": [
    "%load_ext autoreload\n",
    "%autoreload 2"
   ]
  },
  {
   "cell_type": "code",
   "execution_count": null,
   "id": "6c6b14ff",
   "metadata": {
    "ExecuteTime": {
     "end_time": "2021-10-04T02:38:34.941117Z",
     "start_time": "2021-10-04T02:38:34.929568Z"
    }
   },
   "outputs": [],
   "source": [
    "def sound( x, rate=8000, label=''):\n",
    "    from IPython.display import display, Audio, HTML\n",
    "    if label is '':\n",
    "        display( Audio( x, rate=rate))\n",
    "    else:\n",
    "        display( HTML( \n",
    "        '<style> table, th, td {border: 0px; }</style> <table><tr><td>' + label + \n",
    "        '</td><td>' + Audio( x, rate=rate)._repr_html_()[3:] + '</td></tr></table>'\n",
    "        ))\n",
    "import pdb"
   ]
  },
  {
   "cell_type": "code",
   "execution_count": null,
   "id": "41ed30f8",
   "metadata": {
    "ExecuteTime": {
     "end_time": "2021-10-04T02:38:34.951050Z",
     "start_time": "2021-10-04T02:38:34.942249Z"
    }
   },
   "outputs": [],
   "source": [
    "hyp = {\n",
    "    'dataloader_opts': {\n",
    "        'batch_size': 1,\n",
    "        'num_workers': 0,\n",
    "    },\n",
    "#     'base_folder_dm_info_list': [\n",
    "#         {\n",
    "#             'path': '/mnt/data/wsj0.8k/si_tr_s/',\n",
    "#             'ext': 'wav',\n",
    "#             'type': 'clean',\n",
    "#         }\n",
    "#     ],\n",
    "#     'data_clean_prob': 1.,\n",
    "    'data_folder': '/mnt/data/Speech/wsj_tse',\n",
    "    'valid_data': '/mnt/data/Speech/wsj_tse/mix_2_spk_tt/meta.csv',\n",
    "    'sample_rate': 8000,\n",
    "    'training_signal_len': 24000,\n",
    "}"
   ]
  },
  {
   "cell_type": "code",
   "execution_count": null,
   "id": "b7c97037",
   "metadata": {
    "ExecuteTime": {
     "end_time": "2021-10-04T02:38:36.572444Z",
     "start_time": "2021-10-04T02:38:34.952801Z"
    }
   },
   "outputs": [],
   "source": [
    "from data_mixing import static_mixing_prep\n",
    "import torch\n",
    "import numpy as np\n",
    "from speechbrain.dataio.batch import PaddedBatch"
   ]
  },
  {
   "cell_type": "markdown",
   "id": "893a54c5",
   "metadata": {},
   "source": [
    "# Old version"
   ]
  },
  {
   "cell_type": "code",
   "execution_count": null,
   "id": "72312d18",
   "metadata": {
    "ExecuteTime": {
     "end_time": "2021-10-04T02:38:36.646152Z",
     "start_time": "2021-10-04T02:38:36.573649Z"
    }
   },
   "outputs": [],
   "source": [
    "ds = static_mixing_prep(hyp, 'valid')\n",
    "dl = torch.utils.data.DataLoader(\n",
    "        ds,\n",
    "        batch_size=hyp[\"dataloader_opts\"][\"batch_size\"],\n",
    "        num_workers=hyp[\"dataloader_opts\"][\"num_workers\"],\n",
    "        collate_fn=PaddedBatch,\n",
    "        worker_init_fn=lambda x: np.random.seed(\n",
    "            int.from_bytes(os.urandom(4), \"little\") + x\n",
    "        ),\n",
    "    )"
   ]
  },
  {
   "cell_type": "code",
   "execution_count": null,
   "id": "9c8e9cee",
   "metadata": {
    "ExecuteTime": {
     "end_time": "2021-10-04T02:38:36.661939Z",
     "start_time": "2021-10-04T02:38:36.647360Z"
    }
   },
   "outputs": [],
   "source": [
    "def listen_batch(batch):\n",
    "    mix = batch['mix_sig'].data\n",
    "    s1 = batch['s1_sig'].data\n",
    "    s2 = batch['s2_sig'].data\n",
    "    enr = batch['enr_sig'].data\n",
    "    diff = mix - s1 - s2\n",
    "    print(abs(mix).max())\n",
    "    print((diff**2).mean())\n",
    "    sound(mix[0].numpy(), rate=hyp['sample_rate'], label='mix')\n",
    "    sound(s1[0].numpy(), rate=hyp['sample_rate'], label='s1')\n",
    "    sound(s2[0].numpy(), rate=hyp['sample_rate'], label='s2')\n",
    "    sound(enr[0].numpy(), rate=hyp['sample_rate'], label='enr')"
   ]
  },
  {
   "cell_type": "code",
   "execution_count": null,
   "id": "1632a3fd",
   "metadata": {
    "ExecuteTime": {
     "end_time": "2021-10-04T03:55:18.768895Z",
     "start_time": "2021-10-04T03:55:18.716144Z"
    }
   },
   "outputs": [],
   "source": [
    "for i, batch in enumerate(dl):  \n",
    "    if i == 3:\n",
    "        listen_batch(batch)\n",
    "        break"
   ]
  },
  {
   "cell_type": "markdown",
   "id": "1496c829",
   "metadata": {},
   "source": [
    "# New version "
   ]
  },
  {
   "cell_type": "code",
   "execution_count": null,
   "id": "3f71dd7a",
   "metadata": {
    "ExecuteTime": {
     "end_time": "2021-10-04T02:38:36.900347Z",
     "start_time": "2021-10-04T02:38:36.883640Z"
    }
   },
   "outputs": [],
   "source": [
    "hparams = {\n",
    "    'dataloader_opts': {\n",
    "        'batch_size': 1,\n",
    "        'num_workers': 0,\n",
    "    },\n",
    "    'data_folder': '/mnt/data/wsj0.8k/',\n",
    "    'valid_txtpath': '/mnt/data/Speech/wsj_tse/mix_2_spk_tt_extr.txt',\n",
    "    'valid_data': './wsj_cv.csv',\n",
    "    'sample_rate': 8000,\n",
    "    'training_signal_len': 24000,\n",
    "}"
   ]
  },
  {
   "cell_type": "code",
   "execution_count": null,
   "id": "7df5ffa0",
   "metadata": {
    "ExecuteTime": {
     "end_time": "2021-10-04T02:38:37.110662Z",
     "start_time": "2021-10-04T02:38:36.901334Z"
    }
   },
   "outputs": [],
   "source": [
    "from prepare_data import create_wsj_tse_csv\n",
    "from data_mixing import static_data_prep\n"
   ]
  },
  {
   "cell_type": "code",
   "execution_count": null,
   "id": "f711dfec",
   "metadata": {
    "ExecuteTime": {
     "end_time": "2021-10-04T02:38:37.151852Z",
     "start_time": "2021-10-04T02:38:37.111773Z"
    }
   },
   "outputs": [],
   "source": [
    "create_wsj_tse_csv(hparams['data_folder'], hparams['valid_txtpath'], hparams['valid_data'])"
   ]
  },
  {
   "cell_type": "code",
   "execution_count": null,
   "id": "590fa4b8",
   "metadata": {
    "ExecuteTime": {
     "end_time": "2021-10-04T02:38:37.179539Z",
     "start_time": "2021-10-04T02:38:37.152957Z"
    }
   },
   "outputs": [],
   "source": [
    "new_ds = static_data_prep(hparams, 'valid')\n",
    "new_dl = torch.utils.data.DataLoader(\n",
    "        new_ds,\n",
    "        batch_size=hparams[\"dataloader_opts\"][\"batch_size\"],\n",
    "        num_workers=hparams[\"dataloader_opts\"][\"num_workers\"],\n",
    "        collate_fn=PaddedBatch,\n",
    "        worker_init_fn=lambda x: np.random.seed(\n",
    "            int.from_bytes(os.urandom(4), \"little\") + x\n",
    "        ),\n",
    "    )"
   ]
  },
  {
   "cell_type": "code",
   "execution_count": null,
   "id": "c754a31b",
   "metadata": {
    "ExecuteTime": {
     "end_time": "2021-10-04T04:07:22.840937Z",
     "start_time": "2021-10-04T04:07:22.797749Z"
    }
   },
   "outputs": [],
   "source": [
    "for i, new_batch in enumerate(new_dl):  \n",
    "    if i == 0:\n",
    "        listen_batch(new_batch)\n",
    "        break"
   ]
  }
 ],
 "metadata": {
  "kernelspec": {
   "display_name": "pytorch190",
   "language": "python",
   "name": "pytorch190"
  },
  "language_info": {
   "codemirror_mode": {
    "name": "ipython",
    "version": 3
   },
   "file_extension": ".py",
   "mimetype": "text/x-python",
   "name": "python",
   "nbconvert_exporter": "python",
   "pygments_lexer": "ipython3",
   "version": "3.8.11"
  }
 },
 "nbformat": 4,
 "nbformat_minor": 5
}
