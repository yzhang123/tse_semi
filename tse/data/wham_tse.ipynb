{
 "cells": [
  {
   "cell_type": "code",
   "execution_count": null,
   "id": "a8c9e707",
   "metadata": {
    "ExecuteTime": {
     "end_time": "2021-10-06T04:33:00.790533Z",
     "start_time": "2021-10-06T04:33:00.652873Z"
    }
   },
   "outputs": [],
   "source": [
    "!export CUDA_VISIBLE_DEVICES=3"
   ]
  },
  {
   "cell_type": "code",
   "execution_count": null,
   "id": "fce585ba",
   "metadata": {
    "ExecuteTime": {
     "end_time": "2021-10-06T04:33:00.819335Z",
     "start_time": "2021-10-06T04:33:00.794541Z"
    }
   },
   "outputs": [],
   "source": [
    "%load_ext autoreload\n",
    "%autoreload 2"
   ]
  },
  {
   "cell_type": "code",
   "execution_count": null,
   "id": "6c6b14ff",
   "metadata": {
    "ExecuteTime": {
     "end_time": "2021-10-06T04:33:00.840023Z",
     "start_time": "2021-10-06T04:33:00.821451Z"
    }
   },
   "outputs": [],
   "source": [
    "def sound( x, rate=8000, label=''):\n",
    "    from IPython.display import display, Audio, HTML\n",
    "    if label is '':\n",
    "        display( Audio( x, rate=rate))\n",
    "    else:\n",
    "        display( HTML( \n",
    "        '<style> table, th, td {border: 0px; }</style> <table><tr><td>' + label + \n",
    "        '</td><td>' + Audio( x, rate=rate)._repr_html_()[3:] + '</td></tr></table>'\n",
    "        ))\n",
    "import pdb"
   ]
  },
  {
   "cell_type": "code",
   "execution_count": null,
   "id": "b7c97037",
   "metadata": {
    "ExecuteTime": {
     "end_time": "2021-10-06T04:33:02.893578Z",
     "start_time": "2021-10-06T04:33:00.843348Z"
    }
   },
   "outputs": [],
   "source": [
    "from wham_data_utils import static_data_prep, create_wham_tse_csv\n",
    "import os\n",
    "import torch\n",
    "import numpy as np\n",
    "from speechbrain.dataio.batch import PaddedBatch"
   ]
  },
  {
   "cell_type": "code",
   "execution_count": null,
   "id": "9c8e9cee",
   "metadata": {
    "ExecuteTime": {
     "end_time": "2021-10-06T04:33:02.925940Z",
     "start_time": "2021-10-06T04:33:02.896790Z"
    }
   },
   "outputs": [],
   "source": [
    "def listen_batch(batch):\n",
    "    mix = batch['mix_sig'].data\n",
    "    s1 = batch['s1_sig'].data\n",
    "    s2 = batch['s2_sig'].data\n",
    "    noise = batch['noise_sig'].data\n",
    "    enr = batch['enr_sig'].data\n",
    "    diff = mix - s1 - s2 - noise\n",
    "    print(abs(mix).max())\n",
    "    print((diff**2).mean())\n",
    "    sound(mix[0].numpy(), rate=hparams['sample_rate'], label='mix')\n",
    "    sound(s1[0].numpy(), rate=hparams['sample_rate'], label='s1')\n",
    "    sound(s2[0].numpy(), rate=hparams['sample_rate'], label='s2')\n",
    "    sound(enr[0].numpy(), rate=hparams['sample_rate'], label='enr')"
   ]
  },
  {
   "cell_type": "markdown",
   "id": "1496c829",
   "metadata": {},
   "source": [
    "# New version "
   ]
  },
  {
   "cell_type": "code",
   "execution_count": null,
   "id": "3f71dd7a",
   "metadata": {
    "ExecuteTime": {
     "end_time": "2021-10-06T04:33:02.952978Z",
     "start_time": "2021-10-06T04:33:02.927703Z"
    }
   },
   "outputs": [],
   "source": [
    "hparams = {\n",
    "    'train_dataloader_opts': {\n",
    "        'batch_size': 1,\n",
    "        'num_workers': 0,\n",
    "    },\n",
    "    'valid_dataloader_opts': {\n",
    "        'batch_size': 1,\n",
    "        'num_workers': 0,\n",
    "    },\n",
    "    'base_folder_dm_info_list': [\n",
    "        {\n",
    "            'path': '/mnt/data1/wsj0.8k/si_tr_s/',\n",
    "            'ext': 'wav',\n",
    "            'type': 'clean',\n",
    "        }\n",
    "    ],\n",
    "    'data_clean_prob': 1.,\n",
    "    'wsj_folder': '/mnt/data1/wsj0.8k',\n",
    "    'data_folder': '/mnt/data1/wham/wham_original',\n",
    "    'train_txtpath': '/mnt/data1/Speech/wsj_tse/mix_2_spk_tr_extr.txt',\n",
    "    'valid_txtpath': '/mnt/data1/Speech/wsj_tse/mix_2_spk_tt_extr.txt',\n",
    "    'train_data': './wham_tse_tr.csv',\n",
    "    'valid_data': './wham_tse_tt.csv',\n",
    "    'sample_rate': 8000,\n",
    "    'training_signal_len': 24000,\n",
    "}"
   ]
  },
  {
   "cell_type": "code",
   "execution_count": null,
   "id": "f711dfec",
   "metadata": {
    "ExecuteTime": {
     "end_time": "2021-10-06T04:33:03.085705Z",
     "start_time": "2021-10-06T04:33:02.954591Z"
    }
   },
   "outputs": [],
   "source": [
    "create_wham_tse_csv(os.path.join(hparams['data_folder'], 'wav8k/min/tt'),\n",
    "                    hparams['wsj_folder'], hparams['valid_txtpath'], hparams['valid_data'])"
   ]
  },
  {
   "cell_type": "code",
   "execution_count": null,
   "id": "590fa4b8",
   "metadata": {
    "ExecuteTime": {
     "end_time": "2021-10-06T04:33:03.152374Z",
     "start_time": "2021-10-06T04:33:03.088035Z"
    }
   },
   "outputs": [],
   "source": [
    "new_ds = static_data_prep(hparams, 'valid')\n",
    "new_dl = torch.utils.data.DataLoader(\n",
    "        new_ds,\n",
    "        batch_size=hparams[\"valid_dataloader_opts\"][\"batch_size\"],\n",
    "        num_workers=hparams[\"valid_dataloader_opts\"][\"num_workers\"],\n",
    "        collate_fn=PaddedBatch,\n",
    "        worker_init_fn=lambda x: np.random.seed(\n",
    "            int.from_bytes(os.urandom(4), \"little\") + x\n",
    "        ),\n",
    "    )"
   ]
  },
  {
   "cell_type": "code",
   "execution_count": null,
   "id": "c754a31b",
   "metadata": {
    "ExecuteTime": {
     "end_time": "2021-10-06T04:33:03.212225Z",
     "start_time": "2021-10-06T04:33:03.154232Z"
    }
   },
   "outputs": [],
   "source": [
    "for i, new_batch in enumerate(new_dl):  \n",
    "    if i == 2:\n",
    "        listen_batch(new_batch)\n",
    "        break"
   ]
  },
  {
   "cell_type": "code",
   "execution_count": null,
   "id": "33ee076d",
   "metadata": {
    "ExecuteTime": {
     "end_time": "2021-10-06T04:33:04.570204Z",
     "start_time": "2021-10-06T04:33:03.214155Z"
    }
   },
   "outputs": [],
   "source": [
    "from wham_data_utils import dynamic_mixing_prep\n",
    "\n",
    "create_wham_tse_csv(os.path.join(hparams['data_folder'], 'wav8k/min/tr'),\n",
    "                    hparams['wsj_folder'], hparams['train_txtpath'], hparams['train_data'])\n",
    "dl = dynamic_mixing_prep(hparams, 'train')\n",
    "for i, new_batch in enumerate(dl):  \n",
    "    if i == 2:\n",
    "        listen_batch(new_batch)\n",
    "        break"
   ]
  },
  {
   "cell_type": "code",
   "execution_count": null,
   "id": "e3432009",
   "metadata": {},
   "outputs": [],
   "source": []
  }
 ],
 "metadata": {
  "kernelspec": {
   "display_name": "pytorch190",
   "language": "python",
   "name": "pytorch190"
  },
  "language_info": {
   "codemirror_mode": {
    "name": "ipython",
    "version": 3
   },
   "file_extension": ".py",
   "mimetype": "text/x-python",
   "name": "python",
   "nbconvert_exporter": "python",
   "pygments_lexer": "ipython3",
   "version": "3.8.11"
  }
 },
 "nbformat": 4,
 "nbformat_minor": 5
}
